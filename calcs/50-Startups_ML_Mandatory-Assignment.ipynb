{
 "cells": [
  {
   "attachments": {},
   "cell_type": "markdown",
   "id": "3df75cb0",
   "metadata": {},
   "source": [
    "Step 2. \n",
    "Get the dataGet the data\n",
    "Convert the data to a format you can easily manipulate (without changing the data itself)."
   ]
  },
  {
   "cell_type": "code",
   "execution_count": null,
   "id": "94093884",
   "metadata": {},
   "outputs": [],
   "source": [
    "# Import necessary libraries\n",
    "import pandas as pd\n",
<<<<<<< HEAD
    "import matplotlib.pyplot as plt\n",
    "import numpy as np\n",
    "import parker\n",
    "import seaborn as sns\n",
    "from zlib import crc32\n"
=======
    "import matplotlib as plt\n",
    "import numpy as np\n",
    "import parker\n"
>>>>>>> ff41db6 (Moving functions to a library)
   ]
  },
  {
   "cell_type": "code",
   "execution_count": null,
   "id": "9ab332f1",
   "metadata": {},
   "outputs": [],
   "source": [
    "# Read the CSV file\n",
    "dataset = pd.read_csv('Data/50_Startups.csv')\n",
    "print(dataset)"
   ]
  },
  {
   "cell_type": "code",
   "execution_count": null,
   "id": "53c5b614",
   "metadata": {},
   "outputs": [],
   "source": [
    "# Extracting possible features: R&D Spend, Administration, Marketing Spend & State\n",
    "X = dataset.iloc[:, :-1].values\n",
    "\n",
    "# Extraction labels: Profit\n",
    "y = dataset.iloc[:, 4].values"
   ]
  },
  {
   "cell_type": "code",
   "execution_count": null,
   "id": "8e27d348",
   "metadata": {},
   "outputs": [],
   "source": [
    "# Check the size and type of data (time series, sample, geographical, etc.).\n",
    "print('Data set info:')\n",
    "print(dataset.info())\n",
    "\n",
    "print('States with count:')\n",
    "print(dataset[\"State\"].value_counts())\n",
    "\n",
    "print('Data set type:')\n",
    "print(type(dataset))\n",
    "\n",
    "print('Data set description:')\n",
    "print(dataset.describe())"
   ]
  },
  {
   "cell_type": "code",
   "execution_count": null,
   "id": "377802e3",
   "metadata": {},
   "outputs": [],
   "source": [
    "# Visualize the data\n",
    "dataset.hist()\n",
    "\n",
    "plt.show()"
   ]
  },
  {
   "cell_type": "markdown",
   "id": "22410c14",
   "metadata": {},
   "source": [
    "Create a test set, put it aside, and never look at it (no data snooping!).\n",
    "A problem here is that the data set is small -> Use stratification.\n",
    "Action: Make stratified test and learning sets (1 fold).\n",
    "Code is to be established in your notebook.\n"
   ]
  },
  {
   "cell_type": "code",
   "execution_count": null,
   "id": "3d780e37",
   "metadata": {},
   "outputs": [],
   "source": [
    "train_set, test_set = parker.shuffle_and_split_data(dataset, 0.2)\n",
    "\n",
    "print(len(train_set))\n",
    "\n",
    "print(len(test_set))\n",
    "\n",
    "print(test_set)"
   ]
  },
  {
   "cell_type": "code",
   "execution_count": null,
   "id": "32b22b89",
   "metadata": {},
   "outputs": [],
   "source": [
    "startup_with_id = dataset.reset_index() # adds an `index` column\n",
    "\n",
    "train_set, test_set = split_data_with_id_hash(startup_with_id, 0.8, \"index\")\n",
    "print(\"Stable test set based on rows index, 80% size od training set\")\n",
    "print(test_set)"
   ]
  },
  {
   "cell_type": "code",
   "execution_count": null,
   "id": "94c9a827",
   "metadata": {},
   "outputs": [],
   "source": [
    "train_set, test_set = train_test_split(dataset, test_size=0.6, random_state=42)\n",
    "\n",
    "print(\"test set using sklearn instead\")\n",
    "print(test_set)"
   ]
  },
  {
   "cell_type": "code",
   "execution_count": null,
   "id": "7b632ddb",
   "metadata": {},
   "outputs": [],
   "source": [
    "dataset[\"Marketing Spend\"] = pd.cut(dataset[\"Marketing Spend\"],\n",
    " bins=[0., 1.5, 3.0, 4.5, 6., np.inf],\n",
    " labels=[1, 2, 3, 4, 5])\n",
    " \n",
    " \n",
    "dataset[\"Marketing Spend\"].value_counts().sort_index().plot.bar(rot=0, grid=True) \n",
    "plt.xlabel(\"marketing spend\")\n",
    "plt.ylabel(\"Number of districts\")\n",
    "plt.show()\n",
    "\n"
   ]
  },
  {
   "cell_type": "code",
   "execution_count": null,
   "metadata": {},
   "outputs": [],
   "source": [
    "splitter = StratifiedShuffleSplit(n_splits=10, test_size=0.2, random_state=42)\n",
    "strat_splits = []\n",
    "for train_index, test_index in splitter.split(dataset, dataset[\"Marketing Spend\"]):\n",
    "    strat_train_set_n = dataset.iloc[train_index]\n",
    "    strat_test_set_n = dataset.iloc[test_index]\n",
    "    strat_splits.append([strat_train_set_n, strat_test_set_n])"
   ]
<<<<<<< HEAD
  },
  {
   "attachments": {},
   "cell_type": "markdown",
   "id": "90c49a40",
   "metadata": {},
   "source": [
    "STEP 2.\n",
    "Explore the Data\n",
    "Experementing with Attribute Combinations"
   ]
  },
  {
   "cell_type": "code",
   "execution_count": null,
   "id": "e83567bb",
   "metadata": {},
   "outputs": [],
   "source": [
    "# Show the unique values\n",
    "dataset.nunique()"
   ]
  },
  {
   "cell_type": "code",
   "execution_count": null,
   "id": "744362eb",
   "metadata": {},
   "outputs": [],
   "source": [
    "# Show the dataypes\n",
    "dataset.dtypes"
   ]
  },
  {
   "cell_type": "code",
   "execution_count": null,
   "id": "f819a8ee",
   "metadata": {},
   "outputs": [],
   "source": [
    "# Get the correlations of the data\n",
    "corr = dataset.corr()\n",
    "print(corr)"
   ]
  },
  {
   "cell_type": "code",
   "execution_count": null,
   "id": "03d8dcfc",
   "metadata": {},
   "outputs": [],
   "source": [
    "# Histogram of R&D spend\n",
    "plt.hist(data=dataset,x='R&D Spend')\n",
    "plt.show()"
   ]
  },
  {
   "cell_type": "code",
   "execution_count": null,
   "id": "c38d972f",
   "metadata": {},
   "outputs": [],
   "source": [
    "# Histogram of Administrations\n",
    "plt.hist(data=dataset,x='Administration')\n",
    "plt.show()"
   ]
  },
  {
   "cell_type": "code",
   "execution_count": null,
   "id": "2b503457",
   "metadata": {},
   "outputs": [],
   "source": [
    "# Histogram of Market Spendings\n",
    "plt.hist(data=dataset,x='Marketing Spend')\n",
    "plt.show()"
   ]
  },
  {
   "cell_type": "code",
   "execution_count": null,
   "id": "544c7f02",
   "metadata": {},
   "outputs": [],
   "source": [
    "# Scatter matrix for dataset that includes all features\n",
    "plt.figure(figsize=(20,10))\n",
    "sns.pairplot(data=dataset,hue='State',kind='reg')\n",
    "plt.show()"
   ]
  },
  {
   "cell_type": "code",
   "execution_count": null,
   "id": "2dcd46fb",
   "metadata": {},
   "outputs": [],
   "source": [
    "# Make a sactter matrix plot together with the correlation values\n",
    "parker.scatter_matrix(dataset)\n"
   ]
=======
>>>>>>> ff41db6 (Moving functions to a library)
  }
 ],
 "metadata": {
  "kernelspec": {
   "display_name": "Python 3",
   "language": "python",
   "name": "python3"
  },
  "language_info": {
   "codemirror_mode": {
    "name": "ipython",
    "version": 3
   },
   "file_extension": ".py",
   "mimetype": "text/x-python",
   "name": "python",
   "nbconvert_exporter": "python",
   "pygments_lexer": "ipython3",
   "version": "3.11.2"
  },
  "vscode": {
   "interpreter": {
    "hash": "aee8b7b246df8f9039afb4144a1f6fd8d2ca17a180786b69acc140d282b71a49"
   }
  }
 },
 "nbformat": 4,
 "nbformat_minor": 5
}
