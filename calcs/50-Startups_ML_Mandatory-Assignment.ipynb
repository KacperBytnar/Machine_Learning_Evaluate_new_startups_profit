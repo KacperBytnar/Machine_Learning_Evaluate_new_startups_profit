{
 "cells": [
  {
   "attachments": {},
   "cell_type": "markdown",
   "id": "f2dcc146",
   "metadata": {},
   "source": [
    "Step 1. Look at the big picture and fram the problem\n",
    "Define the objective in business terms. \n",
    "To create an linear regression model that predicts future profits and makes a risk analysis for 50 different startup companies in order for investors to \n",
    "\n",
    "How shall your solution be used? \n",
    "Solution can be optimized among giving investors an insight to which startup companies can bring profit\n",
    "User Story: As an investor I want to see which company has the lowest chance of failing because I want to invest in them.\n",
    "\n",
    "How should you frame this problem (supervised/unsupervised, online/offline, etc.)? Action: You may re-address chapter 1 for these concepts.\n",
    "Since we are working with Linear Regression here, we are under the category of supervised learning.\n",
    "\n",
    "How should performance be measured? Action: First of all select at measure that goes with the way you framed the problem – RMSE, Confusion matrix or something else. \n",
    "Performance should be measured through resulting correlations (calculated through using RMSE and residuals) which will also produce result for a risk analysis model\n",
    "\n",
    "Is the performance measure aligned with the business objective? Action: Discuss whether your performance measure makes sense regarding your business objective.\n",
    "Yes, as making valid predictions to a specific companies profit rates together with a risk analysis model will bring a major benefit to investors who want to invest in startup companies.\n",
    "\n",
    "What are comparable problems? Can you reuse experience? Action: Reuse all the stuff and tools you know – especially, what you learned from chapter 2 \n",
    "Familiarity with using pandas and matplotlib will help us in exploring and visualizing the data whereas the statistical calculations will allow us to understand what needs to be done to produce accurate results.\n",
    "\n",
    "List the assumptions you (or others have made so far) Action: Figure out what assumptions you actually made Note: Some assumptions have already been made in the case description. Which?\n",
    "Assumptions made:  Few companies have some data set to 0.0\n"
   ]
  },
  {
   "attachments": {},
   "cell_type": "markdown",
   "id": "3df75cb0",
   "metadata": {},
   "source": [
    "Step 2. \n",
    "Get the dataGet the data\n",
    "Convert the data to a format you can easily manipulate (without changing the data itself)."
   ]
  },
  {
   "cell_type": "code",
   "execution_count": 1,
   "id": "94093884",
   "metadata": {},
   "outputs": [],
   "source": [
    "# Import necessary libraries\n",
    "import pandas as pd\n",
    "import matplotlib.pyplot as plt\n",
    "import numpy as np\n",
    "import parker\n",
    "import seaborn as sns\n",
    "from zlib import crc32\n",
    "from pandas.plotting import scatter_matrix\n",
    "from sklearn.model_selection import train_test_split"
   ]
  },
  {
   "cell_type": "code",
   "execution_count": 2,
   "id": "9ab332f1",
   "metadata": {},
   "outputs": [
    {
     "data": {
      "text/html": [
       "<div>\n",
       "<style scoped>\n",
       "    .dataframe tbody tr th:only-of-type {\n",
       "        vertical-align: middle;\n",
       "    }\n",
       "\n",
       "    .dataframe tbody tr th {\n",
       "        vertical-align: top;\n",
       "    }\n",
       "\n",
       "    .dataframe thead th {\n",
       "        text-align: right;\n",
       "    }\n",
       "</style>\n",
       "<table border=\"1\" class=\"dataframe\">\n",
       "  <thead>\n",
       "    <tr style=\"text-align: right;\">\n",
       "      <th></th>\n",
       "      <th>R&amp;D Spend</th>\n",
       "      <th>Administration</th>\n",
       "      <th>Marketing Spend</th>\n",
       "      <th>State</th>\n",
       "      <th>Profit</th>\n",
       "    </tr>\n",
       "  </thead>\n",
       "  <tbody>\n",
       "    <tr>\n",
       "      <th>0</th>\n",
       "      <td>165349.20</td>\n",
       "      <td>136897.80</td>\n",
       "      <td>471784.10</td>\n",
       "      <td>New York</td>\n",
       "      <td>192261.83</td>\n",
       "    </tr>\n",
       "    <tr>\n",
       "      <th>1</th>\n",
       "      <td>162597.70</td>\n",
       "      <td>151377.59</td>\n",
       "      <td>443898.53</td>\n",
       "      <td>California</td>\n",
       "      <td>191792.06</td>\n",
       "    </tr>\n",
       "    <tr>\n",
       "      <th>2</th>\n",
       "      <td>153441.51</td>\n",
       "      <td>101145.55</td>\n",
       "      <td>407934.54</td>\n",
       "      <td>Florida</td>\n",
       "      <td>191050.39</td>\n",
       "    </tr>\n",
       "    <tr>\n",
       "      <th>3</th>\n",
       "      <td>144372.41</td>\n",
       "      <td>118671.85</td>\n",
       "      <td>383199.62</td>\n",
       "      <td>New York</td>\n",
       "      <td>182901.99</td>\n",
       "    </tr>\n",
       "    <tr>\n",
       "      <th>4</th>\n",
       "      <td>142107.34</td>\n",
       "      <td>91391.77</td>\n",
       "      <td>366168.42</td>\n",
       "      <td>Florida</td>\n",
       "      <td>166187.94</td>\n",
       "    </tr>\n",
       "  </tbody>\n",
       "</table>\n",
       "</div>"
      ],
      "text/plain": [
       "   R&D Spend  Administration  Marketing Spend       State     Profit\n",
       "0  165349.20       136897.80        471784.10    New York  192261.83\n",
       "1  162597.70       151377.59        443898.53  California  191792.06\n",
       "2  153441.51       101145.55        407934.54     Florida  191050.39\n",
       "3  144372.41       118671.85        383199.62    New York  182901.99\n",
       "4  142107.34        91391.77        366168.42     Florida  166187.94"
      ]
     },
     "execution_count": 2,
     "metadata": {},
     "output_type": "execute_result"
    }
   ],
   "source": [
    "# Read the CSV file\n",
    "dataset = pd.read_csv('Data/50_Startups.csv')\n",
    "\n",
    "dataset.head()"
   ]
  },
  {
   "cell_type": "code",
   "execution_count": 3,
   "id": "8e27d348",
   "metadata": {},
   "outputs": [
    {
     "name": "stdout",
     "output_type": "stream",
     "text": [
      "Data set info:\n",
      "<class 'pandas.core.frame.DataFrame'>\n",
      "RangeIndex: 50 entries, 0 to 49\n",
      "Data columns (total 5 columns):\n",
      " #   Column           Non-Null Count  Dtype  \n",
      "---  ------           --------------  -----  \n",
      " 0   R&D Spend        50 non-null     float64\n",
      " 1   Administration   50 non-null     float64\n",
      " 2   Marketing Spend  50 non-null     float64\n",
      " 3   State            50 non-null     object \n",
      " 4   Profit           50 non-null     float64\n",
      "dtypes: float64(4), object(1)\n",
      "memory usage: 2.1+ KB\n",
      "None\n",
      "States with count:\n",
      "New York      17\n",
      "California    17\n",
      "Florida       16\n",
      "Name: State, dtype: int64\n",
      "Data set type:\n",
      "<class 'pandas.core.frame.DataFrame'>\n",
      "Data set description:\n",
      "           R&D Spend  Administration  Marketing Spend         Profit\n",
      "count      50.000000       50.000000        50.000000      50.000000\n",
      "mean    73721.615600   121344.639600    211025.097800  112012.639200\n",
      "std     45902.256482    28017.802755    122290.310726   40306.180338\n",
      "min         0.000000    51283.140000         0.000000   14681.400000\n",
      "25%     39936.370000   103730.875000    129300.132500   90138.902500\n",
      "50%     73051.080000   122699.795000    212716.240000  107978.190000\n",
      "75%    101602.800000   144842.180000    299469.085000  139765.977500\n",
      "max    165349.200000   182645.560000    471784.100000  192261.830000\n"
     ]
    }
   ],
   "source": [
    "# Check the size and type of data (time series, sample, geographical, etc.).\n",
    "print('Data set info:')\n",
    "print(dataset.info())\n",
    "\n",
    "print('States with count:')\n",
    "print(dataset[\"State\"].value_counts())\n",
    "\n",
    "print('Data set type:')\n",
    "print(type(dataset))\n",
    "\n",
    "print('Data set description:')\n",
    "print(dataset.describe())"
   ]
  },
  {
   "cell_type": "code",
   "execution_count": 4,
   "id": "377802e3",
   "metadata": {},
   "outputs": [
    {
     "data": {
      "image/png": "[encoded data removed]",
      "text/plain": [
       "<Figure size 1500x700 with 4 Axes>"
      ]
     },
     "metadata": {},
     "output_type": "display_data"
    }
   ],
   "source": [
    "# Visualize the data\n",
    "dataset.hist(figsize=(15,7))\n",
    "\n",
    "plt.show()"
   ]
  },
  {
   "cell_type": "markdown",
   "id": "22410c14",
   "metadata": {},
   "source": [
    "Create a test set, put it aside, and never look at it (no data snooping!).\n",
    "A problem here is that the data set is small -> Use stratification.\n",
    "Action: Make stratified test and learning sets (1 fold).\n",
    "Code is to be established in your notebook.\n"
   ]
  },
  {
   "cell_type": "code",
   "execution_count": 5,
   "id": "f19140eb",
   "metadata": {},
   "outputs": [
    {
     "data": {
      "text/html": [
       "<div>\n",
       "<style scoped>\n",
       "    .dataframe tbody tr th:only-of-type {\n",
       "        vertical-align: middle;\n",
       "    }\n",
       "\n",
       "    .dataframe tbody tr th {\n",
       "        vertical-align: top;\n",
       "    }\n",
       "\n",
       "    .dataframe thead th {\n",
       "        text-align: right;\n",
       "    }\n",
       "</style>\n",
       "<table border=\"1\" class=\"dataframe\">\n",
       "  <thead>\n",
       "    <tr style=\"text-align: right;\">\n",
       "      <th></th>\n",
       "      <th>R&amp;D Spend</th>\n",
       "      <th>Administration</th>\n",
       "      <th>Marketing Spend</th>\n",
       "    </tr>\n",
       "  </thead>\n",
       "  <tbody>\n",
       "    <tr>\n",
       "      <th>0</th>\n",
       "      <td>165349.20</td>\n",
       "      <td>136897.80</td>\n",
       "      <td>471784.10</td>\n",
       "    </tr>\n",
       "    <tr>\n",
       "      <th>1</th>\n",
       "      <td>162597.70</td>\n",
       "      <td>151377.59</td>\n",
       "      <td>443898.53</td>\n",
       "    </tr>\n",
       "    <tr>\n",
       "      <th>2</th>\n",
       "      <td>153441.51</td>\n",
       "      <td>101145.55</td>\n",
       "      <td>407934.54</td>\n",
       "    </tr>\n",
       "    <tr>\n",
       "      <th>3</th>\n",
       "      <td>144372.41</td>\n",
       "      <td>118671.85</td>\n",
       "      <td>383199.62</td>\n",
       "    </tr>\n",
       "    <tr>\n",
       "      <th>4</th>\n",
       "      <td>142107.34</td>\n",
       "      <td>91391.77</td>\n",
       "      <td>366168.42</td>\n",
       "    </tr>\n",
       "  </tbody>\n",
       "</table>\n",
       "</div>"
      ],
      "text/plain": [
       "   R&D Spend  Administration  Marketing Spend\n",
       "0  165349.20       136897.80        471784.10\n",
       "1  162597.70       151377.59        443898.53\n",
       "2  153441.51       101145.55        407934.54\n",
       "3  144372.41       118671.85        383199.62\n",
       "4  142107.34        91391.77        366168.42"
      ]
     },
     "execution_count": 5,
     "metadata": {},
     "output_type": "execute_result"
    }
   ],
   "source": [
    "# Drop orginal state column and label \n",
    "X=dataset.drop(['Profit','State'],axis=1)\n",
    "X.head()"
   ]
  },
  {
   "cell_type": "code",
   "execution_count": 6,
   "id": "9bd389f8",
   "metadata": {},
   "outputs": [
    {
     "data": {
      "text/html": [
       "<div>\n",
       "<style scoped>\n",
       "    .dataframe tbody tr th:only-of-type {\n",
       "        vertical-align: middle;\n",
       "    }\n",
       "\n",
       "    .dataframe tbody tr th {\n",
       "        vertical-align: top;\n",
       "    }\n",
       "\n",
       "    .dataframe thead th {\n",
       "        text-align: right;\n",
       "    }\n",
       "</style>\n",
       "<table border=\"1\" class=\"dataframe\">\n",
       "  <thead>\n",
       "    <tr style=\"text-align: right;\">\n",
       "      <th></th>\n",
       "      <th>R&amp;D Spend</th>\n",
       "      <th>Administration</th>\n",
       "      <th>Marketing Spend</th>\n",
       "      <th>Profit</th>\n",
       "    </tr>\n",
       "  </thead>\n",
       "  <tbody>\n",
       "    <tr>\n",
       "      <th>0</th>\n",
       "      <td>165349.20</td>\n",
       "      <td>136897.80</td>\n",
       "      <td>471784.10</td>\n",
       "      <td>192261.83</td>\n",
       "    </tr>\n",
       "    <tr>\n",
       "      <th>1</th>\n",
       "      <td>162597.70</td>\n",
       "      <td>151377.59</td>\n",
       "      <td>443898.53</td>\n",
       "      <td>191792.06</td>\n",
       "    </tr>\n",
       "    <tr>\n",
       "      <th>2</th>\n",
       "      <td>153441.51</td>\n",
       "      <td>101145.55</td>\n",
       "      <td>407934.54</td>\n",
       "      <td>191050.39</td>\n",
       "    </tr>\n",
       "    <tr>\n",
       "      <th>3</th>\n",
       "      <td>144372.41</td>\n",
       "      <td>118671.85</td>\n",
       "      <td>383199.62</td>\n",
       "      <td>182901.99</td>\n",
       "    </tr>\n",
       "    <tr>\n",
       "      <th>4</th>\n",
       "      <td>142107.34</td>\n",
       "      <td>91391.77</td>\n",
       "      <td>366168.42</td>\n",
       "      <td>166187.94</td>\n",
       "    </tr>\n",
       "  </tbody>\n",
       "</table>\n",
       "</div>"
      ],
      "text/plain": [
       "   R&D Spend  Administration  Marketing Spend     Profit\n",
       "0  165349.20       136897.80        471784.10  192261.83\n",
       "1  162597.70       151377.59        443898.53  191792.06\n",
       "2  153441.51       101145.55        407934.54  191050.39\n",
       "3  144372.41       118671.85        383199.62  182901.99\n",
       "4  142107.34        91391.77        366168.42  166187.94"
      ]
     },
     "execution_count": 6,
     "metadata": {},
     "output_type": "execute_result"
    }
   ],
   "source": [
    "# Drop orginal state column and label \n",
    "y=dataset.drop(['State'],axis=1)\n",
    "y.head()"
   ]
  },
  {
   "cell_type": "code",
   "execution_count": 7,
   "id": "95f73323",
   "metadata": {},
   "outputs": [
    {
     "name": "stderr",
     "output_type": "stream",
     "text": [
      "/Library/Frameworks/Python.framework/Versions/3.11/lib/python3.11/site-packages/sklearn/preprocessing/_encoders.py:868: FutureWarning: `sparse` was renamed to `sparse_output` in version 1.2 and will be removed in 1.4. `sparse_output` is ignored unless you leave `sparse` to its default value.\n",
      "  warnings.warn(\n"
     ]
    },
    {
     "data": {
      "text/plain": [
       "[array(['California', 'Florida', 'New York'], dtype=object)]"
      ]
     },
     "execution_count": 7,
     "metadata": {},
     "output_type": "execute_result"
    }
   ],
   "source": [
    "from sklearn.preprocessing import OneHotEncoder\n",
    "#define OHT and fit transform\n",
    "ohe=OneHotEncoder(sparse=False)\n",
    "transformed=ohe.fit_transform(dataset[['State']])\n",
    "ohe.categories_"
   ]
  },
  {
   "cell_type": "code",
   "execution_count": 8,
   "id": "3b6a3aa1",
   "metadata": {},
   "outputs": [
    {
     "data": {
      "text/html": [
       "<div>\n",
       "<style scoped>\n",
       "    .dataframe tbody tr th:only-of-type {\n",
       "        vertical-align: middle;\n",
       "    }\n",
       "\n",
       "    .dataframe tbody tr th {\n",
       "        vertical-align: top;\n",
       "    }\n",
       "\n",
       "    .dataframe thead th {\n",
       "        text-align: right;\n",
       "    }\n",
       "</style>\n",
       "<table border=\"1\" class=\"dataframe\">\n",
       "  <thead>\n",
       "    <tr style=\"text-align: right;\">\n",
       "      <th></th>\n",
       "      <th>R&amp;D Spend</th>\n",
       "      <th>Administration</th>\n",
       "      <th>Marketing Spend</th>\n",
       "      <th>State</th>\n",
       "      <th>Profit</th>\n",
       "      <th>California</th>\n",
       "      <th>Florida</th>\n",
       "      <th>New York</th>\n",
       "    </tr>\n",
       "  </thead>\n",
       "  <tbody>\n",
       "    <tr>\n",
       "      <th>0</th>\n",
       "      <td>165349.20</td>\n",
       "      <td>136897.80</td>\n",
       "      <td>471784.10</td>\n",
       "      <td>New York</td>\n",
       "      <td>192261.83</td>\n",
       "      <td>0.0</td>\n",
       "      <td>0.0</td>\n",
       "      <td>1.0</td>\n",
       "    </tr>\n",
       "    <tr>\n",
       "      <th>1</th>\n",
       "      <td>162597.70</td>\n",
       "      <td>151377.59</td>\n",
       "      <td>443898.53</td>\n",
       "      <td>California</td>\n",
       "      <td>191792.06</td>\n",
       "      <td>1.0</td>\n",
       "      <td>0.0</td>\n",
       "      <td>0.0</td>\n",
       "    </tr>\n",
       "    <tr>\n",
       "      <th>2</th>\n",
       "      <td>153441.51</td>\n",
       "      <td>101145.55</td>\n",
       "      <td>407934.54</td>\n",
       "      <td>Florida</td>\n",
       "      <td>191050.39</td>\n",
       "      <td>0.0</td>\n",
       "      <td>1.0</td>\n",
       "      <td>0.0</td>\n",
       "    </tr>\n",
       "    <tr>\n",
       "      <th>3</th>\n",
       "      <td>144372.41</td>\n",
       "      <td>118671.85</td>\n",
       "      <td>383199.62</td>\n",
       "      <td>New York</td>\n",
       "      <td>182901.99</td>\n",
       "      <td>0.0</td>\n",
       "      <td>0.0</td>\n",
       "      <td>1.0</td>\n",
       "    </tr>\n",
       "    <tr>\n",
       "      <th>4</th>\n",
       "      <td>142107.34</td>\n",
       "      <td>91391.77</td>\n",
       "      <td>366168.42</td>\n",
       "      <td>Florida</td>\n",
       "      <td>166187.94</td>\n",
       "      <td>0.0</td>\n",
       "      <td>1.0</td>\n",
       "      <td>0.0</td>\n",
       "    </tr>\n",
       "  </tbody>\n",
       "</table>\n",
       "</div>"
      ],
      "text/plain": [
       "   R&D Spend  Administration  Marketing Spend       State     Profit  \\\n",
       "0  165349.20       136897.80        471784.10    New York  192261.83   \n",
       "1  162597.70       151377.59        443898.53  California  191792.06   \n",
       "2  153441.51       101145.55        407934.54     Florida  191050.39   \n",
       "3  144372.41       118671.85        383199.62    New York  182901.99   \n",
       "4  142107.34        91391.77        366168.42     Florida  166187.94   \n",
       "\n",
       "   California  Florida  New York  \n",
       "0         0.0      0.0       1.0  \n",
       "1         1.0      0.0       0.0  \n",
       "2         0.0      1.0       0.0  \n",
       "3         0.0      0.0       1.0  \n",
       "4         0.0      1.0       0.0  "
      ]
     },
     "execution_count": 8,
     "metadata": {},
     "output_type": "execute_result"
    }
   ],
   "source": [
    "dataset[ohe.categories_[0]]=transformed\n",
    "dataset.head()"
   ]
  },
  {
   "cell_type": "code",
   "execution_count": 9,
   "id": "94c9a827",
   "metadata": {},
   "outputs": [
    {
     "name": "stdout",
     "output_type": "stream",
     "text": [
      "(40, 3)\n",
      "(10, 3)\n",
      "test set using train_test_split from sklearn\n",
      "X test\n",
      "    R&D Spend  Administration  Marketing Spend\n",
      "10  101913.08       110594.11        229160.95\n",
      "13   91992.39       135495.07        252664.93\n",
      "30   61994.48       115641.28         91131.24\n",
      "46    1315.46       115816.21        297114.46\n",
      "18   91749.16       114175.79        294919.57\n",
      "0   165349.20       136897.80        471784.10\n",
      "40   28754.33       118546.05        172795.67\n",
      "12   93863.75       127320.38        249839.44\n",
      "29   65605.48       153032.06        107138.38\n",
      "8   120542.52       148718.95        311613.29\n",
      "y test\n",
      "    R&D Spend  Administration  Marketing Spend     Profit\n",
      "10  101913.08       110594.11        229160.95  146121.95\n",
      "13   91992.39       135495.07        252664.93  134307.35\n",
      "30   61994.48       115641.28         91131.24   99937.59\n",
      "46    1315.46       115816.21        297114.46   49490.75\n",
      "18   91749.16       114175.79        294919.57  124266.90\n",
      "0   165349.20       136897.80        471784.10  192261.83\n",
      "40   28754.33       118546.05        172795.67   78239.91\n",
      "12   93863.75       127320.38        249839.44  141585.52\n",
      "29   65605.48       153032.06        107138.38  101004.64\n",
      "8   120542.52       148718.95        311613.29  152211.77\n"
     ]
    }
   ],
   "source": [
    "# Split the data into training and testing sets\n",
    "X_train,X_test,y_train,y_test=train_test_split(X,y,test_size=0.2, shuffle=True, random_state=123)\n",
    "print(X_train.shape)\n",
    "print(X_test.shape) \n",
    "\n",
    "print(\"test set using train_test_split from sklearn\")\n",
    "print(\"X test\")\n",
    "print(X_test)\n",
    "print(\"y test\")\n",
    "print(y_test)"
   ]
  },
  {
   "cell_type": "code",
   "execution_count": 10,
   "id": "b68e2645",
   "metadata": {},
   "outputs": [
    {
     "data": {
      "text/html": [
       "<div>\n",
       "<style scoped>\n",
       "    .dataframe tbody tr th:only-of-type {\n",
       "        vertical-align: middle;\n",
       "    }\n",
       "\n",
       "    .dataframe tbody tr th {\n",
       "        vertical-align: top;\n",
       "    }\n",
       "\n",
       "    .dataframe thead th {\n",
       "        text-align: right;\n",
       "    }\n",
       "</style>\n",
       "<table border=\"1\" class=\"dataframe\">\n",
       "  <thead>\n",
       "    <tr style=\"text-align: right;\">\n",
       "      <th></th>\n",
       "      <th>R&amp;D Spend</th>\n",
       "      <th>Administration</th>\n",
       "      <th>Marketing Spend</th>\n",
       "      <th>Profit</th>\n",
       "    </tr>\n",
       "  </thead>\n",
       "  <tbody>\n",
       "    <tr>\n",
       "      <th>0</th>\n",
       "      <td>78389.47</td>\n",
       "      <td>153773.43</td>\n",
       "      <td>299737.29</td>\n",
       "      <td>111313.02</td>\n",
       "    </tr>\n",
       "    <tr>\n",
       "      <th>1</th>\n",
       "      <td>0.00</td>\n",
       "      <td>135426.92</td>\n",
       "      <td>0.00</td>\n",
       "      <td>42559.73</td>\n",
       "    </tr>\n",
       "    <tr>\n",
       "      <th>2</th>\n",
       "      <td>100671.96</td>\n",
       "      <td>91790.61</td>\n",
       "      <td>249744.55</td>\n",
       "      <td>144259.40</td>\n",
       "    </tr>\n",
       "    <tr>\n",
       "      <th>3</th>\n",
       "      <td>27892.92</td>\n",
       "      <td>84710.77</td>\n",
       "      <td>164470.71</td>\n",
       "      <td>77798.83</td>\n",
       "    </tr>\n",
       "    <tr>\n",
       "      <th>4</th>\n",
       "      <td>131876.90</td>\n",
       "      <td>99814.71</td>\n",
       "      <td>362861.36</td>\n",
       "      <td>156991.12</td>\n",
       "    </tr>\n",
       "  </tbody>\n",
       "</table>\n",
       "</div>"
      ],
      "text/plain": [
       "   R&D Spend  Administration  Marketing Spend     Profit\n",
       "0   78389.47       153773.43        299737.29  111313.02\n",
       "1       0.00       135426.92             0.00   42559.73\n",
       "2  100671.96        91790.61        249744.55  144259.40\n",
       "3   27892.92        84710.77        164470.71   77798.83\n",
       "4  131876.90        99814.71        362861.36  156991.12"
      ]
     },
     "execution_count": 10,
     "metadata": {},
     "output_type": "execute_result"
    }
   ],
   "source": [
    "# Merging x and y values into test and training sets\n",
    "train_set = X_train.merge(y_train)\n",
    "\n",
    "train_set.head()"
   ]
  },
  {
   "attachments": {},
   "cell_type": "markdown",
   "id": "90c49a40",
   "metadata": {},
   "source": [
    "STEP 3.\n",
    "Explore the Data\n",
    "Experementing with Attribute Combinations"
   ]
  },
  {
   "cell_type": "code",
   "execution_count": 11,
   "id": "e83567bb",
   "metadata": {},
   "outputs": [
    {
     "data": {
      "text/plain": [
       "R&D Spend          49\n",
       "Administration     50\n",
       "Marketing Spend    48\n",
       "State               3\n",
       "Profit             50\n",
       "California          2\n",
       "Florida             2\n",
       "New York            2\n",
       "dtype: int64"
      ]
     },
     "execution_count": 11,
     "metadata": {},
     "output_type": "execute_result"
    }
   ],
   "source": [
    "# Show the unique values\n",
    "dataset.nunique()"
   ]
  },
  {
   "cell_type": "code",
   "execution_count": 12,
   "id": "744362eb",
   "metadata": {},
   "outputs": [
    {
     "data": {
      "text/plain": [
       "R&D Spend          float64\n",
       "Administration     float64\n",
       "Marketing Spend    float64\n",
       "State               object\n",
       "Profit             float64\n",
       "California         float64\n",
       "Florida            float64\n",
       "New York           float64\n",
       "dtype: object"
      ]
     },
     "execution_count": 12,
     "metadata": {},
     "output_type": "execute_result"
    }
   ],
   "source": [
    "# Show the dataypes\n",
    "dataset.dtypes"
   ]
  },
  {
   "cell_type": "code",
   "execution_count": 13,
   "id": "1c980b81",
   "metadata": {},
   "outputs": [
    {
     "data": {
      "text/plain": [
       "Profit             1.000000\n",
       "R&D Spend          0.968886\n",
       "Marketing Spend    0.778201\n",
       "Administration     0.176308\n",
       "Name: Profit, dtype: float64"
      ]
     },
     "execution_count": 13,
     "metadata": {},
     "output_type": "execute_result"
    }
   ],
   "source": [
    "# Correlations for training set\n",
    "corr_train = train_set.corr()\n",
    "\n",
    "# Display Correlations of profit only\n",
    "corr_train['Profit'].sort_values(ascending=False)\n"
   ]
  },
  {
   "cell_type": "code",
   "execution_count": 14,
   "id": "f819a8ee",
   "metadata": {},
   "outputs": [
    {
     "name": "stderr",
     "output_type": "stream",
     "text": [
      "/var/folders/sr/60t35rxs16b5bhc31mv2ctvr0000gn/T/ipykernel_72709/2343394996.py:2: FutureWarning: The default value of numeric_only in DataFrame.corr is deprecated. In a future version, it will default to False. Select only valid columns or specify the value of numeric_only to silence this warning.\n",
      "  corr = dataset.corr()\n"
     ]
    },
    {
     "data": {
      "text/plain": [
       "Profit             1.000000\n",
       "R&D Spend          0.972900\n",
       "Marketing Spend    0.747766\n",
       "Administration     0.200717\n",
       "Florida            0.116244\n",
       "New York           0.031368\n",
       "California        -0.145837\n",
       "Name: Profit, dtype: float64"
      ]
     },
     "execution_count": 14,
     "metadata": {},
     "output_type": "execute_result"
    }
   ],
   "source": [
    "# Get the correlations of the data\n",
    "corr = dataset.corr()\n",
    "\n",
    "# Display Correlations of profit only\n",
    "corr['Profit'].sort_values(ascending=False)"
   ]
  },
  {
   "cell_type": "code",
   "execution_count": 15,
   "id": "03d8dcfc",
   "metadata": {},
   "outputs": [
    {
     "data": {
      "image/png": "[encoded data removed]",
      "text/plain": [
       "<Figure size 640x480 with 1 Axes>"
      ]
     },
     "metadata": {},
     "output_type": "display_data"
    }
   ],
   "source": [
    "# Histogram of R&D spend\n",
    "plt.hist(data=dataset,x='R&D Spend')\n",
    "plt.show()"
   ]
  },
  {
   "cell_type": "code",
   "execution_count": 16,
   "id": "c38d972f",
   "metadata": {},
   "outputs": [
    {
     "data": {
      "image/png": "[encoded data removed]",
      "text/plain": [
       "<Figure size 640x480 with 1 Axes>"
      ]
     },
     "metadata": {},
     "output_type": "display_data"
    }
   ],
   "source": [
    "# Histogram of Administrations\n",
    "plt.hist(data=dataset,x='Administration')\n",
    "plt.show()"
   ]
  },
  {
   "cell_type": "code",
   "execution_count": 17,
   "id": "2b503457",
   "metadata": {},
   "outputs": [
    {
     "data": {
      "image/png": "[encoded data removed]",
      "text/plain": [
       "<Figure size 640x480 with 1 Axes>"
      ]
     },
     "metadata": {},
     "output_type": "display_data"
    }
   ],
   "source": [
    "# Histogram of Market Spendings\n",
    "plt.hist(data=dataset,x='Marketing Spend')\n",
    "plt.show()"
   ]
  },
  {
   "cell_type": "code",
   "execution_count": 18,
   "id": "2dcd46fb",
   "metadata": {},
   "outputs": [
    {
     "data": {
      "image/png": "[encoded data removed]",
      "text/plain": [
       "<Figure size 1200x800 with 16 Axes>"
      ]
     },
     "metadata": {},
     "output_type": "display_data"
    }
   ],
   "source": [
    "# Make a sactter matrix plot together with the correlation values\n",
    "attributes = [\"R&D Spend\", \"Administration\", \"Marketing Spend\", \"Profit\"]\n",
    "scatter_matrix(dataset[attributes], figsize=(12, 8))\n",
    "plt.show()\n"
   ]
  },
  {
   "cell_type": "code",
   "execution_count": 19,
   "id": "617182f1",
   "metadata": {},
   "outputs": [
    {
     "data": {
      "text/html": [
       "<div>\n",
       "<style scoped>\n",
       "    .dataframe tbody tr th:only-of-type {\n",
       "        vertical-align: middle;\n",
       "    }\n",
       "\n",
       "    .dataframe tbody tr th {\n",
       "        vertical-align: top;\n",
       "    }\n",
       "\n",
       "    .dataframe thead th {\n",
       "        text-align: right;\n",
       "    }\n",
       "</style>\n",
       "<table border=\"1\" class=\"dataframe\">\n",
       "  <thead>\n",
       "    <tr style=\"text-align: right;\">\n",
       "      <th></th>\n",
       "      <th>R&amp;D Spend</th>\n",
       "      <th>Administration</th>\n",
       "      <th>Marketing Spend</th>\n",
       "      <th>State</th>\n",
       "      <th>Profit</th>\n",
       "      <th>California</th>\n",
       "      <th>Florida</th>\n",
       "      <th>New York</th>\n",
       "      <th>R&amp;D Spend + Administration</th>\n",
       "      <th>R&amp;D Spend + Marketing Spend</th>\n",
       "      <th>Administration + Marketing Spend</th>\n",
       "      <th>R&amp;D Spend + Administration + Marketing Spend</th>\n",
       "    </tr>\n",
       "  </thead>\n",
       "  <tbody>\n",
       "    <tr>\n",
       "      <th>0</th>\n",
       "      <td>165349.20</td>\n",
       "      <td>136897.80</td>\n",
       "      <td>471784.10</td>\n",
       "      <td>New York</td>\n",
       "      <td>192261.83</td>\n",
       "      <td>0.0</td>\n",
       "      <td>0.0</td>\n",
       "      <td>1.0</td>\n",
       "      <td>302247.00</td>\n",
       "      <td>637133.30</td>\n",
       "      <td>608681.90</td>\n",
       "      <td>774031.10</td>\n",
       "    </tr>\n",
       "    <tr>\n",
       "      <th>1</th>\n",
       "      <td>162597.70</td>\n",
       "      <td>151377.59</td>\n",
       "      <td>443898.53</td>\n",
       "      <td>California</td>\n",
       "      <td>191792.06</td>\n",
       "      <td>1.0</td>\n",
       "      <td>0.0</td>\n",
       "      <td>0.0</td>\n",
       "      <td>313975.29</td>\n",
       "      <td>606496.23</td>\n",
       "      <td>595276.12</td>\n",
       "      <td>757873.82</td>\n",
       "    </tr>\n",
       "    <tr>\n",
       "      <th>2</th>\n",
       "      <td>153441.51</td>\n",
       "      <td>101145.55</td>\n",
       "      <td>407934.54</td>\n",
       "      <td>Florida</td>\n",
       "      <td>191050.39</td>\n",
       "      <td>0.0</td>\n",
       "      <td>1.0</td>\n",
       "      <td>0.0</td>\n",
       "      <td>254587.06</td>\n",
       "      <td>561376.05</td>\n",
       "      <td>509080.09</td>\n",
       "      <td>662521.60</td>\n",
       "    </tr>\n",
       "    <tr>\n",
       "      <th>3</th>\n",
       "      <td>144372.41</td>\n",
       "      <td>118671.85</td>\n",
       "      <td>383199.62</td>\n",
       "      <td>New York</td>\n",
       "      <td>182901.99</td>\n",
       "      <td>0.0</td>\n",
       "      <td>0.0</td>\n",
       "      <td>1.0</td>\n",
       "      <td>263044.26</td>\n",
       "      <td>527572.03</td>\n",
       "      <td>501871.47</td>\n",
       "      <td>646243.88</td>\n",
       "    </tr>\n",
       "    <tr>\n",
       "      <th>4</th>\n",
       "      <td>142107.34</td>\n",
       "      <td>91391.77</td>\n",
       "      <td>366168.42</td>\n",
       "      <td>Florida</td>\n",
       "      <td>166187.94</td>\n",
       "      <td>0.0</td>\n",
       "      <td>1.0</td>\n",
       "      <td>0.0</td>\n",
       "      <td>233499.11</td>\n",
       "      <td>508275.76</td>\n",
       "      <td>457560.19</td>\n",
       "      <td>599667.53</td>\n",
       "    </tr>\n",
       "  </tbody>\n",
       "</table>\n",
       "</div>"
      ],
      "text/plain": [
       "   R&D Spend  Administration  Marketing Spend       State     Profit  \\\n",
       "0  165349.20       136897.80        471784.10    New York  192261.83   \n",
       "1  162597.70       151377.59        443898.53  California  191792.06   \n",
       "2  153441.51       101145.55        407934.54     Florida  191050.39   \n",
       "3  144372.41       118671.85        383199.62    New York  182901.99   \n",
       "4  142107.34        91391.77        366168.42     Florida  166187.94   \n",
       "\n",
       "   California  Florida  New York  R&D Spend + Administration  \\\n",
       "0         0.0      0.0       1.0                   302247.00   \n",
       "1         1.0      0.0       0.0                   313975.29   \n",
       "2         0.0      1.0       0.0                   254587.06   \n",
       "3         0.0      0.0       1.0                   263044.26   \n",
       "4         0.0      1.0       0.0                   233499.11   \n",
       "\n",
       "   R&D Spend + Marketing Spend  Administration + Marketing Spend  \\\n",
       "0                    637133.30                         608681.90   \n",
       "1                    606496.23                         595276.12   \n",
       "2                    561376.05                         509080.09   \n",
       "3                    527572.03                         501871.47   \n",
       "4                    508275.76                         457560.19   \n",
       "\n",
       "   R&D Spend + Administration + Marketing Spend  \n",
       "0                                     774031.10  \n",
       "1                                     757873.82  \n",
       "2                                     662521.60  \n",
       "3                                     646243.88  \n",
       "4                                     599667.53  "
      ]
     },
     "execution_count": 19,
     "metadata": {},
     "output_type": "execute_result"
    }
   ],
   "source": [
    "# Experiment with the attributes\n",
    "dataset['R&D Spend + Administration'] = dataset['R&D Spend'] + dataset['Administration']\n",
    "dataset['R&D Spend + Marketing Spend'] = dataset['R&D Spend'] + dataset['Marketing Spend']\n",
    "dataset['Administration + Marketing Spend'] = dataset['Administration'] + dataset['Marketing Spend']\n",
    "dataset['R&D Spend + Administration + Marketing Spend'] = dataset['R&D Spend'] + dataset['Administration'] + dataset['Marketing Spend']\n",
    "dataset.head()"
   ]
  },
  {
   "cell_type": "code",
   "execution_count": 20,
   "id": "172e5e99",
   "metadata": {},
   "outputs": [
    {
     "name": "stderr",
     "output_type": "stream",
     "text": [
      "/var/folders/sr/60t35rxs16b5bhc31mv2ctvr0000gn/T/ipykernel_72709/2343394996.py:2: FutureWarning: The default value of numeric_only in DataFrame.corr is deprecated. In a future version, it will default to False. Select only valid columns or specify the value of numeric_only to silence this warning.\n",
      "  corr = dataset.corr()\n"
     ]
    },
    {
     "data": {
      "text/plain": [
       "Profit                                          1.000000\n",
       "R&D Spend                                       0.972900\n",
       "R&D Spend + Administration + Marketing Spend    0.872598\n",
       "R&D Spend + Marketing Spend                     0.857488\n",
       "R&D Spend + Administration                      0.848182\n",
       "Administration + Marketing Spend                0.779178\n",
       "Marketing Spend                                 0.747766\n",
       "Administration                                  0.200717\n",
       "Florida                                         0.116244\n",
       "New York                                        0.031368\n",
       "California                                     -0.145837\n",
       "Name: Profit, dtype: float64"
      ]
     },
     "execution_count": 20,
     "metadata": {},
     "output_type": "execute_result"
    }
   ],
   "source": [
    "# Get the correlations of the data\n",
    "corr = dataset.corr()\n",
    "\n",
    "# Display Correlations of profit only\n",
    "corr['Profit'].sort_values(ascending=False)"
   ]
  },
  {
   "cell_type": "code",
   "execution_count": 21,
   "id": "1b802015",
   "metadata": {},
   "outputs": [
    {
     "data": {
      "text/html": [
       "<div>\n",
       "<style scoped>\n",
       "    .dataframe tbody tr th:only-of-type {\n",
       "        vertical-align: middle;\n",
       "    }\n",
       "\n",
       "    .dataframe tbody tr th {\n",
       "        vertical-align: top;\n",
       "    }\n",
       "\n",
       "    .dataframe thead th {\n",
       "        text-align: right;\n",
       "    }\n",
       "</style>\n",
       "<table border=\"1\" class=\"dataframe\">\n",
       "  <thead>\n",
       "    <tr style=\"text-align: right;\">\n",
       "      <th></th>\n",
       "      <th>R&amp;D Spend</th>\n",
       "      <th>Administration</th>\n",
       "      <th>Marketing Spend</th>\n",
       "      <th>R&amp;D Spend + Administration</th>\n",
       "      <th>R&amp;D Spend + Marketing Spend</th>\n",
       "      <th>Administration + Marketing Spend</th>\n",
       "      <th>R&amp;D Spend + Administration + Marketing Spend</th>\n",
       "    </tr>\n",
       "  </thead>\n",
       "  <tbody>\n",
       "    <tr>\n",
       "      <th>21</th>\n",
       "      <td>78389.47</td>\n",
       "      <td>153773.43</td>\n",
       "      <td>299737.29</td>\n",
       "      <td>232162.90</td>\n",
       "      <td>378126.76</td>\n",
       "      <td>453510.72</td>\n",
       "      <td>531900.19</td>\n",
       "    </tr>\n",
       "    <tr>\n",
       "      <th>47</th>\n",
       "      <td>0.00</td>\n",
       "      <td>135426.92</td>\n",
       "      <td>0.00</td>\n",
       "      <td>135426.92</td>\n",
       "      <td>0.00</td>\n",
       "      <td>135426.92</td>\n",
       "      <td>135426.92</td>\n",
       "    </tr>\n",
       "    <tr>\n",
       "      <th>11</th>\n",
       "      <td>100671.96</td>\n",
       "      <td>91790.61</td>\n",
       "      <td>249744.55</td>\n",
       "      <td>192462.57</td>\n",
       "      <td>350416.51</td>\n",
       "      <td>341535.16</td>\n",
       "      <td>442207.12</td>\n",
       "    </tr>\n",
       "    <tr>\n",
       "      <th>41</th>\n",
       "      <td>27892.92</td>\n",
       "      <td>84710.77</td>\n",
       "      <td>164470.71</td>\n",
       "      <td>112603.69</td>\n",
       "      <td>192363.63</td>\n",
       "      <td>249181.48</td>\n",
       "      <td>277074.40</td>\n",
       "    </tr>\n",
       "    <tr>\n",
       "      <th>5</th>\n",
       "      <td>131876.90</td>\n",
       "      <td>99814.71</td>\n",
       "      <td>362861.36</td>\n",
       "      <td>231691.61</td>\n",
       "      <td>494738.26</td>\n",
       "      <td>462676.07</td>\n",
       "      <td>594552.97</td>\n",
       "    </tr>\n",
       "  </tbody>\n",
       "</table>\n",
       "</div>"
      ],
      "text/plain": [
       "    R&D Spend  Administration  Marketing Spend  R&D Spend + Administration  \\\n",
       "21   78389.47       153773.43        299737.29                   232162.90   \n",
       "47       0.00       135426.92             0.00                   135426.92   \n",
       "11  100671.96        91790.61        249744.55                   192462.57   \n",
       "41   27892.92        84710.77        164470.71                   112603.69   \n",
       "5   131876.90        99814.71        362861.36                   231691.61   \n",
       "\n",
       "    R&D Spend + Marketing Spend  Administration + Marketing Spend  \\\n",
       "21                    378126.76                         453510.72   \n",
       "47                         0.00                         135426.92   \n",
       "11                    350416.51                         341535.16   \n",
       "41                    192363.63                         249181.48   \n",
       "5                     494738.26                         462676.07   \n",
       "\n",
       "    R&D Spend + Administration + Marketing Spend  \n",
       "21                                     531900.19  \n",
       "47                                     135426.92  \n",
       "11                                     442207.12  \n",
       "41                                     277074.40  \n",
       "5                                      594552.97  "
      ]
     },
     "execution_count": 21,
     "metadata": {},
     "output_type": "execute_result"
    }
   ],
   "source": [
    "# Append attributes excluding Florida, new york, and california to the training set\n",
    "X_train['R&D Spend + Administration'] = X_train['R&D Spend'] + X_train['Administration']\n",
    "X_train['R&D Spend + Marketing Spend'] = X_train['R&D Spend'] + X_train['Marketing Spend']\n",
    "X_train['Administration + Marketing Spend'] = X_train['Administration'] + X_train['Marketing Spend']\n",
    "X_train['R&D Spend + Administration + Marketing Spend'] = X_train['R&D Spend'] + X_train['Administration'] + X_train['Marketing Spend']\n",
    "X_train.head()"
   ]
  },
  {
   "attachments": {},
   "cell_type": "markdown",
   "id": "7e79fc3e",
   "metadata": {},
   "source": [
    "Confirms that R&D Spend + Administration + Marketing Spend is the best combination"
   ]
  },
  {
   "attachments": {},
   "cell_type": "markdown",
   "id": "8bd31d7d",
   "metadata": {},
   "source": [
    "List of those with strong correlation: R&D Spend, Marketing Spend\n",
    "\n",
    "The correlations for profit in R&D Spend: Approx. 0.97\n",
    "The correlations for profit in Marketing Spend: Approx: 0.75\n",
    "\n",
    "Indicating a high positive correlation which can be used to predict accurate profit increase in both markets"
   ]
  },
  {
   "attachments": {},
   "cell_type": "markdown",
   "id": "1cb093da",
   "metadata": {},
   "source": [
    "STEP 4.\n",
    "Prepare the Data"
   ]
  },
  {
   "cell_type": "code",
   "execution_count": 22,
   "id": "02018f3c",
   "metadata": {},
   "outputs": [
    {
     "data": {
      "text/html": [
       "<div>\n",
       "<style scoped>\n",
       "    .dataframe tbody tr th:only-of-type {\n",
       "        vertical-align: middle;\n",
       "    }\n",
       "\n",
       "    .dataframe tbody tr th {\n",
       "        vertical-align: top;\n",
       "    }\n",
       "\n",
       "    .dataframe thead th {\n",
       "        text-align: right;\n",
       "    }\n",
       "</style>\n",
       "<table border=\"1\" class=\"dataframe\">\n",
       "  <thead>\n",
       "    <tr style=\"text-align: right;\">\n",
       "      <th></th>\n",
       "      <th>R&amp;D Spend</th>\n",
       "      <th>Administration</th>\n",
       "      <th>Marketing Spend</th>\n",
       "      <th>R&amp;D Spend + Administration</th>\n",
       "      <th>R&amp;D Spend + Marketing Spend</th>\n",
       "      <th>Administration + Marketing Spend</th>\n",
       "      <th>R&amp;D Spend + Administration + Marketing Spend</th>\n",
       "    </tr>\n",
       "  </thead>\n",
       "  <tbody>\n",
       "    <tr>\n",
       "      <th>21</th>\n",
       "      <td>78389.47</td>\n",
       "      <td>153773.43</td>\n",
       "      <td>299737.29</td>\n",
       "      <td>232162.90</td>\n",
       "      <td>378126.76</td>\n",
       "      <td>453510.72</td>\n",
       "      <td>531900.19</td>\n",
       "    </tr>\n",
       "    <tr>\n",
       "      <th>47</th>\n",
       "      <td>0.00</td>\n",
       "      <td>135426.92</td>\n",
       "      <td>0.00</td>\n",
       "      <td>135426.92</td>\n",
       "      <td>0.00</td>\n",
       "      <td>135426.92</td>\n",
       "      <td>135426.92</td>\n",
       "    </tr>\n",
       "    <tr>\n",
       "      <th>11</th>\n",
       "      <td>100671.96</td>\n",
       "      <td>91790.61</td>\n",
       "      <td>249744.55</td>\n",
       "      <td>192462.57</td>\n",
       "      <td>350416.51</td>\n",
       "      <td>341535.16</td>\n",
       "      <td>442207.12</td>\n",
       "    </tr>\n",
       "    <tr>\n",
       "      <th>41</th>\n",
       "      <td>27892.92</td>\n",
       "      <td>84710.77</td>\n",
       "      <td>164470.71</td>\n",
       "      <td>112603.69</td>\n",
       "      <td>192363.63</td>\n",
       "      <td>249181.48</td>\n",
       "      <td>277074.40</td>\n",
       "    </tr>\n",
       "    <tr>\n",
       "      <th>5</th>\n",
       "      <td>131876.90</td>\n",
       "      <td>99814.71</td>\n",
       "      <td>362861.36</td>\n",
       "      <td>231691.61</td>\n",
       "      <td>494738.26</td>\n",
       "      <td>462676.07</td>\n",
       "      <td>594552.97</td>\n",
       "    </tr>\n",
       "  </tbody>\n",
       "</table>\n",
       "</div>"
      ],
      "text/plain": [
       "    R&D Spend  Administration  Marketing Spend  R&D Spend + Administration  \\\n",
       "21   78389.47       153773.43        299737.29                   232162.90   \n",
       "47       0.00       135426.92             0.00                   135426.92   \n",
       "11  100671.96        91790.61        249744.55                   192462.57   \n",
       "41   27892.92        84710.77        164470.71                   112603.69   \n",
       "5   131876.90        99814.71        362861.36                   231691.61   \n",
       "\n",
       "    R&D Spend + Marketing Spend  Administration + Marketing Spend  \\\n",
       "21                    378126.76                         453510.72   \n",
       "47                         0.00                         135426.92   \n",
       "11                    350416.51                         341535.16   \n",
       "41                    192363.63                         249181.48   \n",
       "5                     494738.26                         462676.07   \n",
       "\n",
       "    R&D Spend + Administration + Marketing Spend  \n",
       "21                                     531900.19  \n",
       "47                                     135426.92  \n",
       "11                                     442207.12  \n",
       "41                                     277074.40  \n",
       "5                                      594552.97  "
      ]
     },
     "execution_count": 22,
     "metadata": {},
     "output_type": "execute_result"
    }
   ],
   "source": [
    "# Show ne training set with dropped states\n",
    "X_train.head()"
   ]
  },
  {
   "cell_type": "code",
   "execution_count": 23,
   "id": "cf90848e",
   "metadata": {},
   "outputs": [
    {
     "data": {
      "text/plain": [
       "array([[ 0.14946664,  1.13490863,  0.79504021,  0.68190379,  0.6536273 ,\n",
       "         1.05706422,  0.84924864],\n",
       "       [-1.5699115 ,  0.52248256, -1.63886107, -0.93436063, -1.70641427,\n",
       "        -1.49193678, -1.57792214],\n",
       "       [ 0.63820609, -0.93414402,  0.38909341,  0.01859082,  0.48067646,\n",
       "         0.15973523,  0.30015639],\n",
       "       [-0.95811406, -1.17047663, -0.30333998, -1.31569108, -0.50579529,\n",
       "        -0.58035157, -0.71077006],\n",
       "       [ 1.32264868, -0.666291  ,  1.30761492,  0.67402948,  1.38144669,\n",
       "         1.1305118 ,  1.23280286],\n",
       "       [ 1.99647224,  1.05493294,  1.96564606,  2.04882493,  2.07897324,\n",
       "         2.1931175 ,  2.23263721],\n",
       "       [ 1.38271568,  0.91544281, -0.6017858 ,  1.51147972, -0.06909274,\n",
       "        -0.37412753,  0.10011728],\n",
       "       [ 0.01168143,  0.27004258,  1.2290321 ,  0.14406085,  0.9480009 ,\n",
       "         1.27774025,  0.97937439],\n",
       "       [-1.5699115 , -0.09316846, -1.27205062, -1.24250821, -1.42447099,\n",
       "        -1.27773334, -1.41428405],\n",
       "       [ 0.1199556 , -0.68409546, -0.49737744, -0.2510298 , -0.34816747,\n",
       "        -0.65508117, -0.46696063],\n",
       "       [-0.228959  ,  1.09914049, -0.92251889,  0.37573644, -0.77423193,\n",
       "        -0.64655468, -0.55783189],\n",
       "       [ 0.94202527,  0.09486842,  0.48679203,  0.76506868,  0.64222476,\n",
       "         0.50318201,  0.6473268 ],\n",
       "       [-0.56064967, -1.15923822,  0.02996581, -1.00729872, -0.13650376,\n",
       "        -0.24871935, -0.34648807],\n",
       "       [ 0.08233608,  0.81320027, -0.55035908,  0.46974482, -0.39959588,\n",
       "        -0.34792012, -0.24280863],\n",
       "       [ 1.28802027,  0.85973615,  0.99105483,  1.41146331,  1.12827384,\n",
       "         1.1844488 ,  1.26434229],\n",
       "       [ 0.10262462, -0.19720055,  0.78632879, -0.02052945,  0.6336022 ,\n",
       "         0.72867471,  0.58530549],\n",
       "       [-1.55802229, -2.27097095, -1.63886107, -2.3234922 , -1.70303112,\n",
       "        -2.16254626, -2.08690766],\n",
       "       [ 1.59672256, -0.03681955,  1.47276393,  1.19786945,  1.58637549,\n",
       "         1.44460863,  1.54924958],\n",
       "       [-0.0886672 , -0.4681303 ,  0.83589608, -0.30185202,  0.61726801,\n",
       "         0.71255123,  0.51959703],\n",
       "       [-1.08346962,  1.1693816 , -1.40877988, -0.24002708, -1.39114564,\n",
       "        -1.10957565, -1.15005208],\n",
       "       [ 1.547041  , -0.94745772,  1.33446862,  0.70422919,  1.46593969,\n",
       "         1.08951511,  1.2641137 ],\n",
       "       [ 0.14121164,  0.06084344,  0.50765935,  0.13802108,  0.43038735,\n",
       "         0.51560744,  0.43330532],\n",
       "       [-0.94120662,  0.24305933, -0.00568815, -0.59530442, -0.27219861,\n",
       "         0.05273641, -0.22241125],\n",
       "       [ 1.06089829,  1.22750738,  0.44405335,  1.42253186,  0.64320041,\n",
       "         0.73291046,  0.85600348],\n",
       "       [-1.22981208,  0.25394456, -1.35031952, -0.80970043, -1.38785368,\n",
       "        -1.27164612, -1.31470922],\n",
       "       [-0.15156936,  0.66022085, -0.51858872,  0.21499833, -0.4417354 ,\n",
       "        -0.35329141, -0.31219691],\n",
       "       [-0.60329049, -2.28632658, -0.03895951, -1.60391404, -0.20161589,\n",
       "        -0.58731476, -0.6170553 ],\n",
       "       [-0.72417725, -1.22818181, -0.21784662, -1.16637322, -0.37351387,\n",
       "        -0.50983248, -0.59160416],\n",
       "       [ 1.13528981, -0.37038587,  0.83762477,  0.67941681,  0.96688171,\n",
       "         0.73772224,  0.88044267],\n",
       "       [-0.17911491,  0.31527593, -1.26464354,  0.02136267, -1.02301738,\n",
       "        -1.17237033, -0.94561041],\n",
       "       [-0.35271888, -0.55804354,  0.10399828, -0.54799623, -0.02043176,\n",
       "        -0.03133226, -0.12238266],\n",
       "       [ 0.05306961,  0.10040668,  0.82412622,  0.09068148,  0.64855341,\n",
       "         0.83742138,  0.65454997],\n",
       "       [-1.05137632, -0.78730004, -0.43707503, -1.19494456, -0.63512709,\n",
       "        -0.62034544, -0.76735315],\n",
       "       [ 0.32560002,  1.12625226, -1.63886107,  0.81174013, -1.16703408,\n",
       "        -1.34699301, -0.93814113],\n",
       "       [ 0.50627873,  0.84463188,  0.65567484,  0.80841407,  0.64803944,\n",
       "         0.84984152,  0.79053261],\n",
       "       [-1.12619993, -1.79680024, -0.13448714, -1.75721944, -0.42383905,\n",
       "        -0.56407151, -0.74524726],\n",
       "       [-0.55161185,  1.26577877,  0.07284026,  0.21336295, -0.1009772 ,\n",
       "         0.37575367,  0.13309297],\n",
       "       [-0.12115136,  2.09869113, -0.67948409,  0.95815682, -0.55674955,\n",
       "        -0.16675065, -0.16120146],\n",
       "       [ 1.7956423 , -0.62186614,  1.67361432,  1.05656658,  1.79736001,\n",
       "         1.50237574,  1.6489002 ],\n",
       "       [-1.54797267,  0.14614842, -1.62340094, -1.10601274, -1.68828824,\n",
       "        -1.56702394, -1.62916076]])"
      ]
     },
     "execution_count": 23,
     "metadata": {},
     "output_type": "execute_result"
    }
   ],
   "source": [
    "# Standardize or normalize the data\n",
    "from sklearn.preprocessing import StandardScaler\n",
    "sc = StandardScaler()\n",
    "x = sc.fit_transform(X_train)\n",
    "x"
   ]
  },
  {
   "attachments": {},
   "cell_type": "markdown",
   "id": "5b099e2a",
   "metadata": {},
   "source": [
    "Step 5.\n",
    "Select and train a model"
   ]
  },
  {
   "cell_type": "code",
   "execution_count": 24,
   "id": "e13cb625",
   "metadata": {},
   "outputs": [
    {
     "data": {
      "text/html": [
       "<style>#sk-container-id-1 {color: black;background-color: white;}#sk-container-id-1 pre{padding: 0;}#sk-container-id-1 div.sk-toggleable {background-color: white;}#sk-container-id-1 label.sk-toggleable__label {cursor: pointer;display: block;width: 100%;margin-bottom: 0;padding: 0.3em;box-sizing: border-box;text-align: center;}#sk-container-id-1 label.sk-toggleable__label-arrow:before {content: \"▸\";float: left;margin-right: 0.25em;color: #696969;}#sk-container-id-1 label.sk-toggleable__label-arrow:hover:before {color: black;}#sk-container-id-1 div.sk-estimator:hover label.sk-toggleable__label-arrow:before {color: black;}#sk-container-id-1 div.sk-toggleable__content {max-height: 0;max-width: 0;overflow: hidden;text-align: left;background-color: #f0f8ff;}#sk-container-id-1 div.sk-toggleable__content pre {margin: 0.2em;color: black;border-radius: 0.25em;background-color: #f0f8ff;}#sk-container-id-1 input.sk-toggleable__control:checked~div.sk-toggleable__content {max-height: 200px;max-width: 100%;overflow: auto;}#sk-container-id-1 input.sk-toggleable__control:checked~label.sk-toggleable__label-arrow:before {content: \"▾\";}#sk-container-id-1 div.sk-estimator input.sk-toggleable__control:checked~label.sk-toggleable__label {background-color: #d4ebff;}#sk-container-id-1 div.sk-label input.sk-toggleable__control:checked~label.sk-toggleable__label {background-color: #d4ebff;}#sk-container-id-1 input.sk-hidden--visually {border: 0;clip: rect(1px 1px 1px 1px);clip: rect(1px, 1px, 1px, 1px);height: 1px;margin: -1px;overflow: hidden;padding: 0;position: absolute;width: 1px;}#sk-container-id-1 div.sk-estimator {font-family: monospace;background-color: #f0f8ff;border: 1px dotted black;border-radius: 0.25em;box-sizing: border-box;margin-bottom: 0.5em;}#sk-container-id-1 div.sk-estimator:hover {background-color: #d4ebff;}#sk-container-id-1 div.sk-parallel-item::after {content: \"\";width: 100%;border-bottom: 1px solid gray;flex-grow: 1;}#sk-container-id-1 div.sk-label:hover label.sk-toggleable__label {background-color: #d4ebff;}#sk-container-id-1 div.sk-serial::before {content: \"\";position: absolute;border-left: 1px solid gray;box-sizing: border-box;top: 0;bottom: 0;left: 50%;z-index: 0;}#sk-container-id-1 div.sk-serial {display: flex;flex-direction: column;align-items: center;background-color: white;padding-right: 0.2em;padding-left: 0.2em;position: relative;}#sk-container-id-1 div.sk-item {position: relative;z-index: 1;}#sk-container-id-1 div.sk-parallel {display: flex;align-items: stretch;justify-content: center;background-color: white;position: relative;}#sk-container-id-1 div.sk-item::before, #sk-container-id-1 div.sk-parallel-item::before {content: \"\";position: absolute;border-left: 1px solid gray;box-sizing: border-box;top: 0;bottom: 0;left: 50%;z-index: -1;}#sk-container-id-1 div.sk-parallel-item {display: flex;flex-direction: column;z-index: 1;position: relative;background-color: white;}#sk-container-id-1 div.sk-parallel-item:first-child::after {align-self: flex-end;width: 50%;}#sk-container-id-1 div.sk-parallel-item:last-child::after {align-self: flex-start;width: 50%;}#sk-container-id-1 div.sk-parallel-item:only-child::after {width: 0;}#sk-container-id-1 div.sk-dashed-wrapped {border: 1px dashed gray;margin: 0 0.4em 0.5em 0.4em;box-sizing: border-box;padding-bottom: 0.4em;background-color: white;}#sk-container-id-1 div.sk-label label {font-family: monospace;font-weight: bold;display: inline-block;line-height: 1.2em;}#sk-container-id-1 div.sk-label-container {text-align: center;}#sk-container-id-1 div.sk-container {/* jupyter's `normalize.less` sets `[hidden] { display: none; }` but bootstrap.min.css set `[hidden] { display: none !important; }` so we also need the `!important` here to be able to override the default hidden behavior on the sphinx rendered scikit-learn.org. See: https://github.com/scikit-learn/scikit-learn/issues/21755 */display: inline-block !important;position: relative;}#sk-container-id-1 div.sk-text-repr-fallback {display: none;}</style><div id=\"sk-container-id-1\" class=\"sk-top-container\"><div class=\"sk-text-repr-fallback\"><pre>LinearRegression()</pre><b>In a Jupyter environment, please rerun this cell to show the HTML representation or trust the notebook. <br />On GitHub, the HTML representation is unable to render, please try loading this page with nbviewer.org.</b></div><div class=\"sk-container\" hidden><div class=\"sk-item\"><div class=\"sk-estimator sk-toggleable\"><input class=\"sk-toggleable__control sk-hidden--visually\" id=\"sk-estimator-id-1\" type=\"checkbox\" checked><label for=\"sk-estimator-id-1\" class=\"sk-toggleable__label sk-toggleable__label-arrow\">LinearRegression</label><div class=\"sk-toggleable__content\"><pre>LinearRegression()</pre></div></div></div></div></div>"
      ],
      "text/plain": [
       "LinearRegression()"
      ]
     },
     "execution_count": 24,
     "metadata": {},
     "output_type": "execute_result"
    }
   ],
   "source": [
    "# Apply Linear Regression\n",
    "from sklearn.linear_model import LinearRegression\n",
    "model = LinearRegression()\n",
    "model.fit(X_train, y_train)"
   ]
  },
  {
   "cell_type": "code",
   "execution_count": 25,
   "id": "f0995af5",
   "metadata": {},
   "outputs": [
    {
     "data": {
      "text/plain": [
       "array([[ 7.83894700e+04,  1.53773430e+05,  2.99737290e+05,\n",
       "         1.17671320e+05],\n",
       "       [ 3.75885212e-11,  1.35426920e+05, -1.30483744e-10,\n",
       "         4.65299533e+04],\n",
       "       [ 1.00671960e+05,  9.17906100e+04,  2.49744550e+05,\n",
       "         1.34325547e+05],\n",
       "       [ 2.78929200e+04,  8.47107700e+04,  1.64470710e+05,\n",
       "         7.49419460e+04],\n",
       "       [ 1.31876900e+05,  9.98147100e+04,  3.62861360e+05,\n",
       "         1.62411988e+05],\n",
       "       [ 1.62597700e+05,  1.51377590e+05,  4.43898530e+05,\n",
       "         1.88188316e+05],\n",
       "       [ 1.34615460e+05,  1.47198870e+05,  1.27716820e+05,\n",
       "         1.55328038e+05],\n",
       "       [ 7.21076000e+04,  1.27864550e+05,  3.53183810e+05,\n",
       "         1.15165713e+05],\n",
       "       [ 2.68176759e-11,  1.16983800e+05,  4.51730600e+04,\n",
       "         4.84699615e+04],\n",
       "       [ 7.70440100e+04,  9.92813400e+04,  1.40574810e+05,\n",
       "         1.11976333e+05],\n",
       "       [ 6.11363800e+04,  1.52701920e+05,  8.82182300e+04,\n",
       "         9.67951336e+04],\n",
       "       [ 1.14523610e+05,  1.22616840e+05,  2.61776230e+05,\n",
       "         1.44939718e+05],\n",
       "       [ 4.60140200e+04,  8.50474400e+04,  2.05517640e+05,\n",
       "         9.04568579e+04],\n",
       "       [ 7.53288700e+04,  1.44135980e+05,  1.34050070e+05,\n",
       "         1.09593415e+05],\n",
       "       [ 1.30298130e+05,  1.45530060e+05,  3.23876680e+05,\n",
       "         1.58967483e+05],\n",
       "       [ 7.62538600e+04,  1.13867300e+05,  2.98664470e+05,\n",
       "         1.16705422e+05],\n",
       "       [ 5.42050000e+02,  5.17431500e+04, -1.75184622e-10,\n",
       "         4.84809046e+04],\n",
       "       [ 1.44372410e+05,  1.18671850e+05,  3.83199620e+05,\n",
       "         1.72487177e+05],\n",
       "       [ 6.75325300e+04,  1.05751030e+05,  3.04768730e+05,\n",
       "         1.10301350e+05],\n",
       "       [ 2.21777400e+04,  1.54806140e+05,  2.83347200e+04,\n",
       "         6.43941841e+04],\n",
       "       [ 1.42107340e+05,  9.13917700e+04,  3.66168420e+05,\n",
       "         1.70623710e+05],\n",
       "       [ 7.80131100e+04,  1.21597550e+05,  2.64346060e+05,\n",
       "         1.16711880e+05],\n",
       "       [ 2.86637600e+04,  1.27056210e+05,  2.01126820e+05,\n",
       "         7.60664799e+04],\n",
       "       [ 1.19943240e+05,  1.56547420e+05,  2.56512920e+05,\n",
       "         1.48338971e+05],\n",
       "       [ 1.55057300e+04,  1.27382300e+05,  3.55341700e+04,\n",
       "         5.99726087e+04],\n",
       "       [ 6.46647100e+04,  1.39553160e+05,  1.37962620e+05,\n",
       "         1.01539038e+05],\n",
       "       [ 4.40699500e+04,  5.12831400e+04,  1.97029420e+05,\n",
       "         8.92642138e+04],\n",
       "       [ 3.85585100e+04,  8.29820900e+04,  1.74999300e+05,\n",
       "         8.36252217e+04],\n",
       "       [ 1.23334880e+05,  1.08679170e+05,  3.04981620e+05,\n",
       "         1.53566401e+05],\n",
       "       [ 6.34088600e+04,  1.29219610e+05,  4.60852500e+04,\n",
       "         9.74934230e+04],\n",
       "       [ 5.54939500e+04,  1.03057490e+05,  2.14634810e+05,\n",
       "         9.78088631e+04],\n",
       "       [ 7.39945600e+04,  1.22782750e+05,  3.03319260e+05,\n",
       "         1.14953991e+05],\n",
       "       [ 2.36409300e+04,  9.61896300e+04,  1.48001110e+05,\n",
       "         7.08475104e+04],\n",
       "       [ 8.64197000e+04,  1.53514110e+05, -4.61215721e-11,\n",
       "         1.13273935e+05],\n",
       "       [ 9.46571600e+04,  1.45077580e+05,  2.82574310e+05,\n",
       "         1.29847564e+05],\n",
       "       [ 2.02295900e+04,  6.59479300e+04,  1.85265100e+05,\n",
       "         7.00749357e+04],\n",
       "       [ 4.64260700e+04,  1.57693920e+05,  2.10797670e+05,\n",
       "         8.96355971e+04],\n",
       "       [ 6.60515200e+04,  1.82645560e+05,  1.18148200e+05,\n",
       "         1.01124402e+05],\n",
       "       [ 1.53441510e+05,  1.01145550e+05,  4.07934540e+05,\n",
       "         1.80724257e+05],\n",
       "       [ 1.00023000e+03,  1.24153040e+05,  1.90393000e+03,\n",
       "         4.75799886e+04]])"
      ]
     },
     "execution_count": 25,
     "metadata": {},
     "output_type": "execute_result"
    }
   ],
   "source": [
    "# Model makes predictions\n",
    "y_pred = model.predict(X_train)\n",
    "y_pred"
   ]
  },
  {
   "cell_type": "code",
   "execution_count": 26,
   "id": "1afcebd6",
   "metadata": {},
   "outputs": [
    {
     "data": {
      "text/html": [
       "<div>\n",
       "<style scoped>\n",
       "    .dataframe tbody tr th:only-of-type {\n",
       "        vertical-align: middle;\n",
       "    }\n",
       "\n",
       "    .dataframe tbody tr th {\n",
       "        vertical-align: top;\n",
       "    }\n",
       "\n",
       "    .dataframe thead th {\n",
       "        text-align: right;\n",
       "    }\n",
       "</style>\n",
       "<table border=\"1\" class=\"dataframe\">\n",
       "  <thead>\n",
       "    <tr style=\"text-align: right;\">\n",
       "      <th></th>\n",
       "      <th>R&amp;D Spend</th>\n",
       "      <th>Administration</th>\n",
       "      <th>Marketing Spend</th>\n",
       "      <th>Profit</th>\n",
       "    </tr>\n",
       "  </thead>\n",
       "  <tbody>\n",
       "    <tr>\n",
       "      <th>10</th>\n",
       "      <td>101913.08</td>\n",
       "      <td>110594.11</td>\n",
       "      <td>229160.95</td>\n",
       "      <td>146121.95</td>\n",
       "    </tr>\n",
       "    <tr>\n",
       "      <th>13</th>\n",
       "      <td>91992.39</td>\n",
       "      <td>135495.07</td>\n",
       "      <td>252664.93</td>\n",
       "      <td>134307.35</td>\n",
       "    </tr>\n",
       "    <tr>\n",
       "      <th>30</th>\n",
       "      <td>61994.48</td>\n",
       "      <td>115641.28</td>\n",
       "      <td>91131.24</td>\n",
       "      <td>99937.59</td>\n",
       "    </tr>\n",
       "    <tr>\n",
       "      <th>46</th>\n",
       "      <td>1315.46</td>\n",
       "      <td>115816.21</td>\n",
       "      <td>297114.46</td>\n",
       "      <td>49490.75</td>\n",
       "    </tr>\n",
       "    <tr>\n",
       "      <th>18</th>\n",
       "      <td>91749.16</td>\n",
       "      <td>114175.79</td>\n",
       "      <td>294919.57</td>\n",
       "      <td>124266.90</td>\n",
       "    </tr>\n",
       "    <tr>\n",
       "      <th>0</th>\n",
       "      <td>165349.20</td>\n",
       "      <td>136897.80</td>\n",
       "      <td>471784.10</td>\n",
       "      <td>192261.83</td>\n",
       "    </tr>\n",
       "    <tr>\n",
       "      <th>40</th>\n",
       "      <td>28754.33</td>\n",
       "      <td>118546.05</td>\n",
       "      <td>172795.67</td>\n",
       "      <td>78239.91</td>\n",
       "    </tr>\n",
       "    <tr>\n",
       "      <th>12</th>\n",
       "      <td>93863.75</td>\n",
       "      <td>127320.38</td>\n",
       "      <td>249839.44</td>\n",
       "      <td>141585.52</td>\n",
       "    </tr>\n",
       "    <tr>\n",
       "      <th>29</th>\n",
       "      <td>65605.48</td>\n",
       "      <td>153032.06</td>\n",
       "      <td>107138.38</td>\n",
       "      <td>101004.64</td>\n",
       "    </tr>\n",
       "    <tr>\n",
       "      <th>8</th>\n",
       "      <td>120542.52</td>\n",
       "      <td>148718.95</td>\n",
       "      <td>311613.29</td>\n",
       "      <td>152211.77</td>\n",
       "    </tr>\n",
       "  </tbody>\n",
       "</table>\n",
       "</div>"
      ],
      "text/plain": [
       "    R&D Spend  Administration  Marketing Spend     Profit\n",
       "10  101913.08       110594.11        229160.95  146121.95\n",
       "13   91992.39       135495.07        252664.93  134307.35\n",
       "30   61994.48       115641.28         91131.24   99937.59\n",
       "46    1315.46       115816.21        297114.46   49490.75\n",
       "18   91749.16       114175.79        294919.57  124266.90\n",
       "0   165349.20       136897.80        471784.10  192261.83\n",
       "40   28754.33       118546.05        172795.67   78239.91\n",
       "12   93863.75       127320.38        249839.44  141585.52\n",
       "29   65605.48       153032.06        107138.38  101004.64\n",
       "8   120542.52       148718.95        311613.29  152211.77"
      ]
     },
     "execution_count": 26,
     "metadata": {},
     "output_type": "execute_result"
    }
   ],
   "source": [
    "y_test"
   ]
  },
  {
   "cell_type": "code",
   "execution_count": 27,
   "id": "493ab6dd",
   "metadata": {},
   "outputs": [
    {
     "name": "stdout",
     "output_type": "stream",
     "text": [
      "Mean squared error: 21800444.56\n",
      "Mean absolute error: 1704.55\n",
      "Coefficient of determination: 0.99\n"
     ]
    },
    {
     "data": {
      "text/plain": [
       "array([[ 7.83894700e+04,  1.53773430e+05,  2.99737290e+05,\n",
       "         1.17671320e+05],\n",
       "       [ 3.19261040e-07,  1.35426920e+05,  4.28035216e-08,\n",
       "         4.65299533e+04],\n",
       "       [ 1.00671960e+05,  9.17906100e+04,  2.49744550e+05,\n",
       "         1.34325547e+05],\n",
       "       [ 2.78929200e+04,  8.47107700e+04,  1.64470710e+05,\n",
       "         7.49419460e+04],\n",
       "       [ 1.31876900e+05,  9.98147100e+04,  3.62861360e+05,\n",
       "         1.62411988e+05],\n",
       "       [ 1.62597700e+05,  1.51377590e+05,  4.43898530e+05,\n",
       "         1.88188316e+05],\n",
       "       [ 1.34615460e+05,  1.47198870e+05,  1.27716820e+05,\n",
       "         1.55328038e+05],\n",
       "       [ 7.21076000e+04,  1.27864550e+05,  3.53183810e+05,\n",
       "         1.15165713e+05],\n",
       "       [ 3.45151088e-07,  1.16983800e+05,  4.51730600e+04,\n",
       "         4.84699615e+04],\n",
       "       [ 7.70440100e+04,  9.92813400e+04,  1.40574810e+05,\n",
       "         1.11976333e+05],\n",
       "       [ 6.11363800e+04,  1.52701920e+05,  8.82182300e+04,\n",
       "         9.67951336e+04],\n",
       "       [ 1.14523610e+05,  1.22616840e+05,  2.61776230e+05,\n",
       "         1.44939718e+05],\n",
       "       [ 4.60140200e+04,  8.50474400e+04,  2.05517640e+05,\n",
       "         9.04568579e+04],\n",
       "       [ 7.53288700e+04,  1.44135980e+05,  1.34050070e+05,\n",
       "         1.09593415e+05],\n",
       "       [ 1.30298130e+05,  1.45530060e+05,  3.23876680e+05,\n",
       "         1.58967483e+05],\n",
       "       [ 7.62538600e+04,  1.13867300e+05,  2.98664470e+05,\n",
       "         1.16705422e+05],\n",
       "       [ 5.42049999e+02,  5.17431500e+04, -2.49630380e-08,\n",
       "         4.84809046e+04],\n",
       "       [ 1.44372410e+05,  1.18671850e+05,  3.83199620e+05,\n",
       "         1.72487177e+05],\n",
       "       [ 6.75325300e+04,  1.05751030e+05,  3.04768730e+05,\n",
       "         1.10301350e+05],\n",
       "       [ 2.21777400e+04,  1.54806140e+05,  2.83347200e+04,\n",
       "         6.43941841e+04],\n",
       "       [ 1.42107340e+05,  9.13917700e+04,  3.66168420e+05,\n",
       "         1.70623710e+05],\n",
       "       [ 7.80131100e+04,  1.21597550e+05,  2.64346060e+05,\n",
       "         1.16711880e+05],\n",
       "       [ 2.86637600e+04,  1.27056210e+05,  2.01126820e+05,\n",
       "         7.60664799e+04],\n",
       "       [ 1.19943240e+05,  1.56547420e+05,  2.56512920e+05,\n",
       "         1.48338971e+05],\n",
       "       [ 1.55057300e+04,  1.27382300e+05,  3.55341700e+04,\n",
       "         5.99726087e+04],\n",
       "       [ 6.46647100e+04,  1.39553160e+05,  1.37962620e+05,\n",
       "         1.01539038e+05],\n",
       "       [ 4.40699500e+04,  5.12831400e+04,  1.97029420e+05,\n",
       "         8.92642138e+04],\n",
       "       [ 3.85585100e+04,  8.29820900e+04,  1.74999300e+05,\n",
       "         8.36252217e+04],\n",
       "       [ 1.23334880e+05,  1.08679170e+05,  3.04981620e+05,\n",
       "         1.53566401e+05],\n",
       "       [ 6.34088600e+04,  1.29219610e+05,  4.60852500e+04,\n",
       "         9.74934230e+04],\n",
       "       [ 5.54939500e+04,  1.03057490e+05,  2.14634810e+05,\n",
       "         9.78088631e+04],\n",
       "       [ 7.39945600e+04,  1.22782750e+05,  3.03319260e+05,\n",
       "         1.14953991e+05],\n",
       "       [ 2.36409300e+04,  9.61896300e+04,  1.48001110e+05,\n",
       "         7.08475104e+04],\n",
       "       [ 8.64197000e+04,  1.53514110e+05,  5.73331575e-07,\n",
       "         1.13273935e+05],\n",
       "       [ 9.46571600e+04,  1.45077580e+05,  2.82574310e+05,\n",
       "         1.29847564e+05],\n",
       "       [ 2.02295900e+04,  6.59479300e+04,  1.85265100e+05,\n",
       "         7.00749357e+04],\n",
       "       [ 4.64260700e+04,  1.57693920e+05,  2.10797670e+05,\n",
       "         8.96355971e+04],\n",
       "       [ 6.60515200e+04,  1.82645560e+05,  1.18148200e+05,\n",
       "         1.01124402e+05],\n",
       "       [ 1.53441510e+05,  1.01145550e+05,  4.07934540e+05,\n",
       "         1.80724257e+05],\n",
       "       [ 1.00023000e+03,  1.24153040e+05,  1.90393000e+03,\n",
       "         4.75799886e+04]])"
      ]
     },
     "execution_count": 27,
     "metadata": {},
     "output_type": "execute_result"
    }
   ],
   "source": [
    "# compute the mean and the root mean square of the performance measure on a manually selected subset (5-10 data) of the training data\n",
    "from sklearn.metrics import mean_squared_error\n",
    "from sklearn.metrics import mean_absolute_error\n",
    "from sklearn.metrics import r2_score\n",
    "\n",
    "# The mean squared error\n",
    "print(\"Mean squared error: %.2f\"\n",
    "\n",
    "      % mean_squared_error(y_train, y_pred))\n",
    "\n",
    "# The mean absolute error\n",
    "print(\"Mean absolute error: %.2f\"\n",
    "\n",
    "      % mean_absolute_error(y_train, y_pred))\n",
    "\n",
    "# The coefficient of determination: 1 is perfect prediction\n",
    "print('Coefficient of determination: %.2f'\n",
    "\n",
    "      % r2_score(y_train, y_pred))\n",
    "\n",
    "# Apply Ridge Regression\n",
    "from sklearn.linear_model import Ridge\n",
    "model = Ridge()\n",
    "model.fit(X_train, y_train)\n",
    "\n",
    "# Model makes predictions\n",
    "y_pred = model.predict(X_train)\n",
    "y_pred"
   ]
  },
  {
   "attachments": {},
   "cell_type": "markdown",
   "id": "ec7442de",
   "metadata": {},
   "source": [
    "Output with Coefficient of deteremination shows a high accurate predicition of: 0.99"
   ]
  },
  {
   "cell_type": "code",
   "execution_count": 28,
   "id": "230b1af1",
   "metadata": {},
   "outputs": [
    {
     "name": "stderr",
     "output_type": "stream",
     "text": [
      "/var/folders/sr/60t35rxs16b5bhc31mv2ctvr0000gn/T/ipykernel_72709/2092241539.py:2: UserWarning: \n",
      "\n",
      "`distplot` is a deprecated function and will be removed in seaborn v0.14.0.\n",
      "\n",
      "Please adapt your code to use either `displot` (a figure-level function with\n",
      "similar flexibility) or `histplot` (an axes-level function for histograms).\n",
      "\n",
      "For a guide to updating your code to use the new functions, please see\n",
      "https://gist.github.com/mwaskom/de44147ed2974457ad6372750bbe5751\n",
      "\n",
      "  sns.distplot(y_pred - y_train)\n"
     ]
    },
    {
     "data": {
      "text/plain": [
       "<Axes: ylabel='Density'>"
      ]
     },
     "execution_count": 28,
     "metadata": {},
     "output_type": "execute_result"
    },
    {
     "data": {
      "image/png": "[encoded data removed]",
      "text/plain": [
       "<Figure size 640x480 with 1 Axes>"
      ]
     },
     "metadata": {},
     "output_type": "display_data"
    }
   ],
   "source": [
    "# Display the accuracy of our model compared to the training set\n",
    "sns.distplot(y_pred - y_train)"
   ]
  },
  {
   "attachments": {},
   "cell_type": "markdown",
   "id": "7a5d9069",
   "metadata": {},
   "source": [
    "Step 6. Fine tune and test the model"
   ]
  },
  {
   "cell_type": "code",
   "execution_count": 38,
   "id": "5dc267ba",
   "metadata": {},
   "outputs": [
    {
     "name": "stdout",
     "output_type": "stream",
     "text": [
      "0.9649863925180506\n",
      "{'alpha': 1000000}\n"
     ]
    }
   ],
   "source": [
    "from sklearn.model_selection import GridSearchCV\n",
    "\n",
    "parameters = {'alpha': [0.1, 1, 10, 100, 1000, 10000, 100000, 1000000]}\n",
    "\n",
    "grid_search = GridSearchCV(estimator = model, param_grid = parameters, scoring = 'r2', cv = 10, n_jobs = -1)\n",
    "grid_search.fit(X_train, y_train)\n",
    "\n",
    "# Fine tune and test the model\n",
    "best_accuracy = grid_search.best_score_\n",
    "best_parameters = grid_search.best_params_\n",
    "\n",
    "print(best_accuracy)\n",
    "print(best_parameters)\n"
   ]
  },
  {
   "cell_type": "code",
   "execution_count": 43,
   "id": "5ceab0bf",
   "metadata": {},
   "outputs": [
    {
     "data": {
      "image/png": "[encoded data removed]",
      "text/plain": [
       "<Figure size 640x480 with 1 Axes>"
      ]
     },
     "metadata": {},
     "output_type": "display_data"
    }
   ],
   "source": [
    "# Visualizing data\n",
    "import matplotlib.pyplot as plt\n",
    "plt.scatter(y_test, y_pred)\n",
    "plt.xlabel('Actual')\n",
    "plt.ylabel('Predicted')\n",
    "plt.show()"
   ]
  }
 ],
 "metadata": {
  "kernelspec": {
   "display_name": "Python 3",
   "language": "python",
   "name": "python3"
  },
  "language_info": {
   "codemirror_mode": {
    "name": "ipython",
    "version": 3
   },
   "file_extension": ".py",
   "mimetype": "text/x-python",
   "name": "python",
   "nbconvert_exporter": "python",
   "pygments_lexer": "ipython3",
   "version": "3.11.2"
  },
  "vscode": {
   "interpreter": {
    "hash": "aee8b7b246df8f9039afb4144a1f6fd8d2ca17a180786b69acc140d282b71a49"
   }
  }
 },
 "nbformat": 4,
 "nbformat_minor": 5
}
